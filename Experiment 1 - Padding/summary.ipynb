{
 "cells": [
  {
   "cell_type": "code",
   "execution_count": 1,
   "metadata": {},
   "outputs": [],
   "source": [
    "import pandas as pd\n",
    "import matplotlib.pyplot as plt\n",
    "\n",
    "%matplotlib inline"
   ]
  },
  {
   "cell_type": "code",
   "execution_count": 32,
   "metadata": {},
   "outputs": [],
   "source": [
    "candidates = ['Black', 'White', 'Edge']"
   ]
  },
  {
   "cell_type": "code",
   "execution_count": 4,
   "metadata": {},
   "outputs": [
    {
     "data": {
      "text/plain": [
       "['1553411065829', '1553421683232', '1553428436895']"
      ]
     },
     "execution_count": 4,
     "metadata": {},
     "output_type": "execute_result"
    }
   ],
   "source": [
    "f = open('./results/timestamp.log')\n",
    "timestamp = []\n",
    "for ts in f:\n",
    "    timestamp.append(ts.strip())\n",
    "    \n",
    "timestamp"
   ]
  },
  {
   "cell_type": "code",
   "execution_count": 8,
   "metadata": {},
   "outputs": [
    {
     "data": {
      "text/html": [
       "<div>\n",
       "<style scoped>\n",
       "    .dataframe tbody tr th:only-of-type {\n",
       "        vertical-align: middle;\n",
       "    }\n",
       "\n",
       "    .dataframe tbody tr th {\n",
       "        vertical-align: top;\n",
       "    }\n",
       "\n",
       "    .dataframe thead th {\n",
       "        text-align: right;\n",
       "    }\n",
       "</style>\n",
       "<table border=\"1\" class=\"dataframe\">\n",
       "  <thead>\n",
       "    <tr style=\"text-align: right;\">\n",
       "      <th></th>\n",
       "      <th>false_positive</th>\n",
       "      <th>false_negative</th>\n",
       "      <th>true_positive</th>\n",
       "      <th>true_negative</th>\n",
       "      <th>true_result</th>\n",
       "      <th>total</th>\n",
       "    </tr>\n",
       "  </thead>\n",
       "  <tbody>\n",
       "    <tr>\n",
       "      <th>amount</th>\n",
       "      <td>48.000000</td>\n",
       "      <td>73.000000</td>\n",
       "      <td>578.000000</td>\n",
       "      <td>180.000000</td>\n",
       "      <td>758.000000</td>\n",
       "      <td>879.0</td>\n",
       "    </tr>\n",
       "    <tr>\n",
       "      <th>percent_group</th>\n",
       "      <td>0.210526</td>\n",
       "      <td>0.112135</td>\n",
       "      <td>0.887865</td>\n",
       "      <td>0.789474</td>\n",
       "      <td>0.862344</td>\n",
       "      <td>1.0</td>\n",
       "    </tr>\n",
       "  </tbody>\n",
       "</table>\n",
       "</div>"
      ],
      "text/plain": [
       "               false_positive  false_negative  true_positive  true_negative  \\\n",
       "amount              48.000000       73.000000     578.000000     180.000000   \n",
       "percent_group        0.210526        0.112135       0.887865       0.789474   \n",
       "\n",
       "               true_result  total  \n",
       "amount          758.000000  879.0  \n",
       "percent_group     0.862344    1.0  "
      ]
     },
     "execution_count": 8,
     "metadata": {},
     "output_type": "execute_result"
    }
   ],
   "source": [
    "confusions = {\n",
    "    'Black': [],\n",
    "    'White': [],\n",
    "    'Edge': [],\n",
    "}\n",
    "for ts in timestamp:\n",
    "    conf_black = pd.read_csv('./results/confusion_black_{}.csv'.format(ts), index_col=0)\n",
    "    conf_white = pd.read_csv('./results/confusion_white_{}.csv'.format(ts), index_col=0)\n",
    "    conf_edge = pd.read_csv('./results/confusion_edge_{}.csv'.format(ts), index_col=0)\n",
    "    \n",
    "    confusions['Black'].append(conf_black)\n",
    "    confusions['White'].append(conf_white)\n",
    "    confusions['Edge'].append(conf_edge)\n",
    "\n",
    "confusions['Black'][0]"
   ]
  },
  {
   "cell_type": "code",
   "execution_count": 12,
   "metadata": {},
   "outputs": [
    {
     "data": {
      "text/html": [
       "<div>\n",
       "<style scoped>\n",
       "    .dataframe tbody tr th:only-of-type {\n",
       "        vertical-align: middle;\n",
       "    }\n",
       "\n",
       "    .dataframe tbody tr th {\n",
       "        vertical-align: top;\n",
       "    }\n",
       "\n",
       "    .dataframe thead th {\n",
       "        text-align: right;\n",
       "    }\n",
       "</style>\n",
       "<table border=\"1\" class=\"dataframe\">\n",
       "  <thead>\n",
       "    <tr style=\"text-align: right;\">\n",
       "      <th></th>\n",
       "      <th>val_loss</th>\n",
       "      <th>val_acc</th>\n",
       "      <th>loss</th>\n",
       "      <th>acc</th>\n",
       "    </tr>\n",
       "  </thead>\n",
       "  <tbody>\n",
       "    <tr>\n",
       "      <th>0</th>\n",
       "      <td>0.395122</td>\n",
       "      <td>0.857143</td>\n",
       "      <td>0.433730</td>\n",
       "      <td>0.823171</td>\n",
       "    </tr>\n",
       "    <tr>\n",
       "      <th>1</th>\n",
       "      <td>0.294221</td>\n",
       "      <td>0.851429</td>\n",
       "      <td>0.372547</td>\n",
       "      <td>0.862195</td>\n",
       "    </tr>\n",
       "    <tr>\n",
       "      <th>2</th>\n",
       "      <td>0.348049</td>\n",
       "      <td>0.868571</td>\n",
       "      <td>0.344864</td>\n",
       "      <td>0.840049</td>\n",
       "    </tr>\n",
       "    <tr>\n",
       "      <th>3</th>\n",
       "      <td>0.272918</td>\n",
       "      <td>0.891429</td>\n",
       "      <td>0.349541</td>\n",
       "      <td>0.873171</td>\n",
       "    </tr>\n",
       "    <tr>\n",
       "      <th>4</th>\n",
       "      <td>0.240542</td>\n",
       "      <td>0.885714</td>\n",
       "      <td>0.293084</td>\n",
       "      <td>0.902439</td>\n",
       "    </tr>\n",
       "    <tr>\n",
       "      <th>5</th>\n",
       "      <td>0.449184</td>\n",
       "      <td>0.890173</td>\n",
       "      <td>0.221081</td>\n",
       "      <td>0.930488</td>\n",
       "    </tr>\n",
       "    <tr>\n",
       "      <th>6</th>\n",
       "      <td>0.234431</td>\n",
       "      <td>0.920000</td>\n",
       "      <td>0.321411</td>\n",
       "      <td>0.899878</td>\n",
       "    </tr>\n",
       "    <tr>\n",
       "      <th>7</th>\n",
       "      <td>0.302691</td>\n",
       "      <td>0.920000</td>\n",
       "      <td>0.228389</td>\n",
       "      <td>0.926829</td>\n",
       "    </tr>\n",
       "    <tr>\n",
       "      <th>8</th>\n",
       "      <td>0.297862</td>\n",
       "      <td>0.920000</td>\n",
       "      <td>0.261671</td>\n",
       "      <td>0.923171</td>\n",
       "    </tr>\n",
       "    <tr>\n",
       "      <th>9</th>\n",
       "      <td>2.770189</td>\n",
       "      <td>0.731429</td>\n",
       "      <td>0.204554</td>\n",
       "      <td>0.937805</td>\n",
       "    </tr>\n",
       "  </tbody>\n",
       "</table>\n",
       "</div>"
      ],
      "text/plain": [
       "   val_loss   val_acc      loss       acc\n",
       "0  0.395122  0.857143  0.433730  0.823171\n",
       "1  0.294221  0.851429  0.372547  0.862195\n",
       "2  0.348049  0.868571  0.344864  0.840049\n",
       "3  0.272918  0.891429  0.349541  0.873171\n",
       "4  0.240542  0.885714  0.293084  0.902439\n",
       "5  0.449184  0.890173  0.221081  0.930488\n",
       "6  0.234431  0.920000  0.321411  0.899878\n",
       "7  0.302691  0.920000  0.228389  0.926829\n",
       "8  0.297862  0.920000  0.261671  0.923171\n",
       "9  2.770189  0.731429  0.204554  0.937805"
      ]
     },
     "execution_count": 12,
     "metadata": {},
     "output_type": "execute_result"
    }
   ],
   "source": [
    "histories = {\n",
    "    'Black': [],\n",
    "    'White': [],\n",
    "    'Edge': [],\n",
    "}\n",
    "for ts in timestamp:\n",
    "    hist_black = pd.read_csv('./results/history_black_{}.csv'.format(ts), index_col=0)\n",
    "    hist_white = pd.read_csv('./results/history_white_{}.csv'.format(ts), index_col=0)\n",
    "    hist_edge = pd.read_csv('./results/history_edge_{}.csv'.format(ts), index_col=0)\n",
    "    \n",
    "    histories['Black'].append(hist_black)\n",
    "    histories['White'].append(hist_white)\n",
    "    histories['Edge'].append(hist_edge)\n",
    "\n",
    "histories['Black'][0]"
   ]
  },
  {
   "cell_type": "code",
   "execution_count": 40,
   "metadata": {},
   "outputs": [],
   "source": [
    "confusions_amt = dict()\n",
    "for can in candidates:\n",
    "    conf_amt_arr = []\n",
    "    for conf in confusions[can] :\n",
    "        conf_amt_arr.append(conf.loc['amount'])\n",
    "    conf_amt = pd.concat(conf_amt_arr, axis=1)\n",
    "    conf_amt.columns = ['1', '2', '3']\n",
    "    conf_amt = conf_amt.transpose()\n",
    "    confusions_amt[can] = conf_amt"
   ]
  },
  {
   "cell_type": "code",
   "execution_count": 47,
   "metadata": {},
   "outputs": [
    {
     "data": {
      "text/plain": [
       "1     73.0\n",
       "2     27.0\n",
       "3    123.0\n",
       "Name: false_negative, dtype: float64"
      ]
     },
     "execution_count": 47,
     "metadata": {},
     "output_type": "execute_result"
    },
    {
     "data": {
      "image/png": "[encoded data removed]",
      "text/plain": [
       "<Figure size 432x288 with 1 Axes>"
      ]
     },
     "metadata": {},
     "output_type": "display_data"
    }
   ],
   "source": [
    "plt.plot(confusions_amt['Black'].false_negative)\n",
    "plt.plot(confusions_amt['White'].false_negative)\n",
    "plt.plot(confusions_amt['Edge'].false_negative)\n",
    "confusions_amt['Black'].false_negative\n",
    "# confusions_amt['White'].false_negative\n",
    "# confusions_amt['Edge'].false_negative"
   ]
  }
 ],
 "metadata": {
  "kernelspec": {
   "display_name": "Python 3",
   "language": "python",
   "name": "python3"
  },
  "language_info": {
   "codemirror_mode": {
    "name": "ipython",
    "version": 3
   },
   "file_extension": ".py",
   "mimetype": "text/x-python",
   "name": "python",
   "nbconvert_exporter": "python",
   "pygments_lexer": "ipython3",
   "version": "3.6.5"
  }
 },
 "nbformat": 4,
 "nbformat_minor": 2
}
